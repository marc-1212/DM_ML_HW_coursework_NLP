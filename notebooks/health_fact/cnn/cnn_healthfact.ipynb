{
  "cells": [
    {
      "cell_type": "code",
      "execution_count": 1,
      "metadata": {
        "colab": {
          "base_uri": "https://localhost:8080/"
        },
        "id": "f6iACHHumWW2",
        "outputId": "bff2bfb8-6b54-470c-c2a0-bae8834fb68b"
      },
      "outputs": [
        {
          "name": "stdout",
          "output_type": "stream",
          "text": [
            "Requirement already satisfied: keras in /home/javier/Escritorio/HERIOT-WATT/F21DL - Data Mining and Machine Learning/group-coursework-jjmps/.venv/lib/python3.10/site-packages (2.15.0)\n",
            "Note: you may need to restart the kernel to use updated packages.\n",
            "Requirement already satisfied: datasets in /home/javier/Escritorio/HERIOT-WATT/F21DL - Data Mining and Machine Learning/group-coursework-jjmps/.venv/lib/python3.10/site-packages (2.15.0)\n",
            "Requirement already satisfied: numpy>=1.17 in /home/javier/Escritorio/HERIOT-WATT/F21DL - Data Mining and Machine Learning/group-coursework-jjmps/.venv/lib/python3.10/site-packages (from datasets) (1.26.2)\n",
            "Requirement already satisfied: pyarrow>=8.0.0 in /home/javier/Escritorio/HERIOT-WATT/F21DL - Data Mining and Machine Learning/group-coursework-jjmps/.venv/lib/python3.10/site-packages (from datasets) (14.0.1)\n",
            "Requirement already satisfied: pyarrow-hotfix in /home/javier/Escritorio/HERIOT-WATT/F21DL - Data Mining and Machine Learning/group-coursework-jjmps/.venv/lib/python3.10/site-packages (from datasets) (0.6)\n",
            "Requirement already satisfied: dill<0.3.8,>=0.3.0 in /home/javier/Escritorio/HERIOT-WATT/F21DL - Data Mining and Machine Learning/group-coursework-jjmps/.venv/lib/python3.10/site-packages (from datasets) (0.3.7)\n",
            "Requirement already satisfied: pandas in /home/javier/Escritorio/HERIOT-WATT/F21DL - Data Mining and Machine Learning/group-coursework-jjmps/.venv/lib/python3.10/site-packages (from datasets) (2.1.3)\n",
            "Requirement already satisfied: requests>=2.19.0 in /home/javier/Escritorio/HERIOT-WATT/F21DL - Data Mining and Machine Learning/group-coursework-jjmps/.venv/lib/python3.10/site-packages (from datasets) (2.31.0)\n",
            "Requirement already satisfied: tqdm>=4.62.1 in /home/javier/Escritorio/HERIOT-WATT/F21DL - Data Mining and Machine Learning/group-coursework-jjmps/.venv/lib/python3.10/site-packages (from datasets) (4.66.1)\n",
            "Requirement already satisfied: xxhash in /home/javier/Escritorio/HERIOT-WATT/F21DL - Data Mining and Machine Learning/group-coursework-jjmps/.venv/lib/python3.10/site-packages (from datasets) (3.4.1)\n",
            "Requirement already satisfied: multiprocess in /home/javier/Escritorio/HERIOT-WATT/F21DL - Data Mining and Machine Learning/group-coursework-jjmps/.venv/lib/python3.10/site-packages (from datasets) (0.70.15)\n",
            "Requirement already satisfied: fsspec<=2023.10.0,>=2023.1.0 in /home/javier/Escritorio/HERIOT-WATT/F21DL - Data Mining and Machine Learning/group-coursework-jjmps/.venv/lib/python3.10/site-packages (from fsspec[http]<=2023.10.0,>=2023.1.0->datasets) (2023.10.0)\n",
            "Requirement already satisfied: aiohttp in /home/javier/Escritorio/HERIOT-WATT/F21DL - Data Mining and Machine Learning/group-coursework-jjmps/.venv/lib/python3.10/site-packages (from datasets) (3.9.1)\n",
            "Requirement already satisfied: huggingface-hub>=0.18.0 in /home/javier/Escritorio/HERIOT-WATT/F21DL - Data Mining and Machine Learning/group-coursework-jjmps/.venv/lib/python3.10/site-packages (from datasets) (0.19.4)\n",
            "Requirement already satisfied: packaging in /home/javier/Escritorio/HERIOT-WATT/F21DL - Data Mining and Machine Learning/group-coursework-jjmps/.venv/lib/python3.10/site-packages (from datasets) (23.2)\n",
            "Requirement already satisfied: pyyaml>=5.1 in /home/javier/Escritorio/HERIOT-WATT/F21DL - Data Mining and Machine Learning/group-coursework-jjmps/.venv/lib/python3.10/site-packages (from datasets) (6.0.1)\n",
            "Requirement already satisfied: attrs>=17.3.0 in /home/javier/Escritorio/HERIOT-WATT/F21DL - Data Mining and Machine Learning/group-coursework-jjmps/.venv/lib/python3.10/site-packages (from aiohttp->datasets) (23.1.0)\n",
            "Requirement already satisfied: multidict<7.0,>=4.5 in /home/javier/Escritorio/HERIOT-WATT/F21DL - Data Mining and Machine Learning/group-coursework-jjmps/.venv/lib/python3.10/site-packages (from aiohttp->datasets) (6.0.4)\n",
            "Requirement already satisfied: yarl<2.0,>=1.0 in /home/javier/Escritorio/HERIOT-WATT/F21DL - Data Mining and Machine Learning/group-coursework-jjmps/.venv/lib/python3.10/site-packages (from aiohttp->datasets) (1.9.3)\n",
            "Requirement already satisfied: frozenlist>=1.1.1 in /home/javier/Escritorio/HERIOT-WATT/F21DL - Data Mining and Machine Learning/group-coursework-jjmps/.venv/lib/python3.10/site-packages (from aiohttp->datasets) (1.4.0)\n",
            "Requirement already satisfied: aiosignal>=1.1.2 in /home/javier/Escritorio/HERIOT-WATT/F21DL - Data Mining and Machine Learning/group-coursework-jjmps/.venv/lib/python3.10/site-packages (from aiohttp->datasets) (1.3.1)\n",
            "Requirement already satisfied: async-timeout<5.0,>=4.0 in /home/javier/Escritorio/HERIOT-WATT/F21DL - Data Mining and Machine Learning/group-coursework-jjmps/.venv/lib/python3.10/site-packages (from aiohttp->datasets) (4.0.3)\n",
            "Requirement already satisfied: filelock in /home/javier/Escritorio/HERIOT-WATT/F21DL - Data Mining and Machine Learning/group-coursework-jjmps/.venv/lib/python3.10/site-packages (from huggingface-hub>=0.18.0->datasets) (3.13.1)\n",
            "Requirement already satisfied: typing-extensions>=3.7.4.3 in /home/javier/Escritorio/HERIOT-WATT/F21DL - Data Mining and Machine Learning/group-coursework-jjmps/.venv/lib/python3.10/site-packages (from huggingface-hub>=0.18.0->datasets) (4.8.0)\n",
            "Requirement already satisfied: charset-normalizer<4,>=2 in /home/javier/Escritorio/HERIOT-WATT/F21DL - Data Mining and Machine Learning/group-coursework-jjmps/.venv/lib/python3.10/site-packages (from requests>=2.19.0->datasets) (3.3.2)\n",
            "Requirement already satisfied: idna<4,>=2.5 in /home/javier/Escritorio/HERIOT-WATT/F21DL - Data Mining and Machine Learning/group-coursework-jjmps/.venv/lib/python3.10/site-packages (from requests>=2.19.0->datasets) (3.6)\n",
            "Requirement already satisfied: urllib3<3,>=1.21.1 in /home/javier/Escritorio/HERIOT-WATT/F21DL - Data Mining and Machine Learning/group-coursework-jjmps/.venv/lib/python3.10/site-packages (from requests>=2.19.0->datasets) (2.1.0)\n",
            "Requirement already satisfied: certifi>=2017.4.17 in /home/javier/Escritorio/HERIOT-WATT/F21DL - Data Mining and Machine Learning/group-coursework-jjmps/.venv/lib/python3.10/site-packages (from requests>=2.19.0->datasets) (2023.11.17)\n",
            "Requirement already satisfied: python-dateutil>=2.8.2 in /home/javier/Escritorio/HERIOT-WATT/F21DL - Data Mining and Machine Learning/group-coursework-jjmps/.venv/lib/python3.10/site-packages (from pandas->datasets) (2.8.2)\n",
            "Requirement already satisfied: pytz>=2020.1 in /home/javier/Escritorio/HERIOT-WATT/F21DL - Data Mining and Machine Learning/group-coursework-jjmps/.venv/lib/python3.10/site-packages (from pandas->datasets) (2023.3.post1)\n",
            "Requirement already satisfied: tzdata>=2022.1 in /home/javier/Escritorio/HERIOT-WATT/F21DL - Data Mining and Machine Learning/group-coursework-jjmps/.venv/lib/python3.10/site-packages (from pandas->datasets) (2023.3)\n",
            "Requirement already satisfied: six>=1.5 in /home/javier/Escritorio/HERIOT-WATT/F21DL - Data Mining and Machine Learning/group-coursework-jjmps/.venv/lib/python3.10/site-packages (from python-dateutil>=2.8.2->pandas->datasets) (1.16.0)\n",
            "Note: you may need to restart the kernel to use updated packages.\n",
            "Requirement already satisfied: numpy in /home/javier/Escritorio/HERIOT-WATT/F21DL - Data Mining and Machine Learning/group-coursework-jjmps/.venv/lib/python3.10/site-packages (1.26.2)\n",
            "Note: you may need to restart the kernel to use updated packages.\n",
            "Requirement already satisfied: pandas in /home/javier/Escritorio/HERIOT-WATT/F21DL - Data Mining and Machine Learning/group-coursework-jjmps/.venv/lib/python3.10/site-packages (2.1.3)\n",
            "Requirement already satisfied: numpy<2,>=1.22.4 in /home/javier/Escritorio/HERIOT-WATT/F21DL - Data Mining and Machine Learning/group-coursework-jjmps/.venv/lib/python3.10/site-packages (from pandas) (1.26.2)\n",
            "Requirement already satisfied: python-dateutil>=2.8.2 in /home/javier/Escritorio/HERIOT-WATT/F21DL - Data Mining and Machine Learning/group-coursework-jjmps/.venv/lib/python3.10/site-packages (from pandas) (2.8.2)\n",
            "Requirement already satisfied: pytz>=2020.1 in /home/javier/Escritorio/HERIOT-WATT/F21DL - Data Mining and Machine Learning/group-coursework-jjmps/.venv/lib/python3.10/site-packages (from pandas) (2023.3.post1)\n",
            "Requirement already satisfied: tzdata>=2022.1 in /home/javier/Escritorio/HERIOT-WATT/F21DL - Data Mining and Machine Learning/group-coursework-jjmps/.venv/lib/python3.10/site-packages (from pandas) (2023.3)\n",
            "Requirement already satisfied: six>=1.5 in /home/javier/Escritorio/HERIOT-WATT/F21DL - Data Mining and Machine Learning/group-coursework-jjmps/.venv/lib/python3.10/site-packages (from python-dateutil>=2.8.2->pandas) (1.16.0)\n",
            "Note: you may need to restart the kernel to use updated packages.\n",
            "Requirement already satisfied: transformers in /home/javier/Escritorio/HERIOT-WATT/F21DL - Data Mining and Machine Learning/group-coursework-jjmps/.venv/lib/python3.10/site-packages (4.35.2)\n",
            "Requirement already satisfied: filelock in /home/javier/Escritorio/HERIOT-WATT/F21DL - Data Mining and Machine Learning/group-coursework-jjmps/.venv/lib/python3.10/site-packages (from transformers) (3.13.1)\n",
            "Requirement already satisfied: huggingface-hub<1.0,>=0.16.4 in /home/javier/Escritorio/HERIOT-WATT/F21DL - Data Mining and Machine Learning/group-coursework-jjmps/.venv/lib/python3.10/site-packages (from transformers) (0.19.4)\n",
            "Requirement already satisfied: numpy>=1.17 in /home/javier/Escritorio/HERIOT-WATT/F21DL - Data Mining and Machine Learning/group-coursework-jjmps/.venv/lib/python3.10/site-packages (from transformers) (1.26.2)\n",
            "Requirement already satisfied: packaging>=20.0 in /home/javier/Escritorio/HERIOT-WATT/F21DL - Data Mining and Machine Learning/group-coursework-jjmps/.venv/lib/python3.10/site-packages (from transformers) (23.2)\n",
            "Requirement already satisfied: pyyaml>=5.1 in /home/javier/Escritorio/HERIOT-WATT/F21DL - Data Mining and Machine Learning/group-coursework-jjmps/.venv/lib/python3.10/site-packages (from transformers) (6.0.1)\n",
            "Requirement already satisfied: regex!=2019.12.17 in /home/javier/Escritorio/HERIOT-WATT/F21DL - Data Mining and Machine Learning/group-coursework-jjmps/.venv/lib/python3.10/site-packages (from transformers) (2023.10.3)\n",
            "Requirement already satisfied: requests in /home/javier/Escritorio/HERIOT-WATT/F21DL - Data Mining and Machine Learning/group-coursework-jjmps/.venv/lib/python3.10/site-packages (from transformers) (2.31.0)\n",
            "Requirement already satisfied: tokenizers<0.19,>=0.14 in /home/javier/Escritorio/HERIOT-WATT/F21DL - Data Mining and Machine Learning/group-coursework-jjmps/.venv/lib/python3.10/site-packages (from transformers) (0.15.0)\n",
            "Requirement already satisfied: safetensors>=0.3.1 in /home/javier/Escritorio/HERIOT-WATT/F21DL - Data Mining and Machine Learning/group-coursework-jjmps/.venv/lib/python3.10/site-packages (from transformers) (0.4.0)\n",
            "Requirement already satisfied: tqdm>=4.27 in /home/javier/Escritorio/HERIOT-WATT/F21DL - Data Mining and Machine Learning/group-coursework-jjmps/.venv/lib/python3.10/site-packages (from transformers) (4.66.1)\n",
            "Requirement already satisfied: fsspec>=2023.5.0 in /home/javier/Escritorio/HERIOT-WATT/F21DL - Data Mining and Machine Learning/group-coursework-jjmps/.venv/lib/python3.10/site-packages (from huggingface-hub<1.0,>=0.16.4->transformers) (2023.10.0)\n",
            "Requirement already satisfied: typing-extensions>=3.7.4.3 in /home/javier/Escritorio/HERIOT-WATT/F21DL - Data Mining and Machine Learning/group-coursework-jjmps/.venv/lib/python3.10/site-packages (from huggingface-hub<1.0,>=0.16.4->transformers) (4.8.0)\n",
            "Requirement already satisfied: charset-normalizer<4,>=2 in /home/javier/Escritorio/HERIOT-WATT/F21DL - Data Mining and Machine Learning/group-coursework-jjmps/.venv/lib/python3.10/site-packages (from requests->transformers) (3.3.2)\n",
            "Requirement already satisfied: idna<4,>=2.5 in /home/javier/Escritorio/HERIOT-WATT/F21DL - Data Mining and Machine Learning/group-coursework-jjmps/.venv/lib/python3.10/site-packages (from requests->transformers) (3.6)\n",
            "Requirement already satisfied: urllib3<3,>=1.21.1 in /home/javier/Escritorio/HERIOT-WATT/F21DL - Data Mining and Machine Learning/group-coursework-jjmps/.venv/lib/python3.10/site-packages (from requests->transformers) (2.1.0)\n",
            "Requirement already satisfied: certifi>=2017.4.17 in /home/javier/Escritorio/HERIOT-WATT/F21DL - Data Mining and Machine Learning/group-coursework-jjmps/.venv/lib/python3.10/site-packages (from requests->transformers) (2023.11.17)\n",
            "Note: you may need to restart the kernel to use updated packages.\n",
            "Requirement already satisfied: tensorflow in /home/javier/Escritorio/HERIOT-WATT/F21DL - Data Mining and Machine Learning/group-coursework-jjmps/.venv/lib/python3.10/site-packages (2.15.0)\n",
            "Requirement already satisfied: absl-py>=1.0.0 in /home/javier/Escritorio/HERIOT-WATT/F21DL - Data Mining and Machine Learning/group-coursework-jjmps/.venv/lib/python3.10/site-packages (from tensorflow) (2.0.0)\n",
            "Requirement already satisfied: astunparse>=1.6.0 in /home/javier/Escritorio/HERIOT-WATT/F21DL - Data Mining and Machine Learning/group-coursework-jjmps/.venv/lib/python3.10/site-packages (from tensorflow) (1.6.3)\n",
            "Requirement already satisfied: flatbuffers>=23.5.26 in /home/javier/Escritorio/HERIOT-WATT/F21DL - Data Mining and Machine Learning/group-coursework-jjmps/.venv/lib/python3.10/site-packages (from tensorflow) (23.5.26)\n",
            "Requirement already satisfied: gast!=0.5.0,!=0.5.1,!=0.5.2,>=0.2.1 in /home/javier/Escritorio/HERIOT-WATT/F21DL - Data Mining and Machine Learning/group-coursework-jjmps/.venv/lib/python3.10/site-packages (from tensorflow) (0.5.4)\n",
            "Requirement already satisfied: google-pasta>=0.1.1 in /home/javier/Escritorio/HERIOT-WATT/F21DL - Data Mining and Machine Learning/group-coursework-jjmps/.venv/lib/python3.10/site-packages (from tensorflow) (0.2.0)\n",
            "Requirement already satisfied: h5py>=2.9.0 in /home/javier/Escritorio/HERIOT-WATT/F21DL - Data Mining and Machine Learning/group-coursework-jjmps/.venv/lib/python3.10/site-packages (from tensorflow) (3.10.0)\n",
            "Requirement already satisfied: libclang>=13.0.0 in /home/javier/Escritorio/HERIOT-WATT/F21DL - Data Mining and Machine Learning/group-coursework-jjmps/.venv/lib/python3.10/site-packages (from tensorflow) (16.0.6)\n",
            "Requirement already satisfied: ml-dtypes~=0.2.0 in /home/javier/Escritorio/HERIOT-WATT/F21DL - Data Mining and Machine Learning/group-coursework-jjmps/.venv/lib/python3.10/site-packages (from tensorflow) (0.2.0)\n",
            "Requirement already satisfied: numpy<2.0.0,>=1.23.5 in /home/javier/Escritorio/HERIOT-WATT/F21DL - Data Mining and Machine Learning/group-coursework-jjmps/.venv/lib/python3.10/site-packages (from tensorflow) (1.26.2)\n",
            "Requirement already satisfied: opt-einsum>=2.3.2 in /home/javier/Escritorio/HERIOT-WATT/F21DL - Data Mining and Machine Learning/group-coursework-jjmps/.venv/lib/python3.10/site-packages (from tensorflow) (3.3.0)\n",
            "Requirement already satisfied: packaging in /home/javier/Escritorio/HERIOT-WATT/F21DL - Data Mining and Machine Learning/group-coursework-jjmps/.venv/lib/python3.10/site-packages (from tensorflow) (23.2)\n",
            "Requirement already satisfied: protobuf!=4.21.0,!=4.21.1,!=4.21.2,!=4.21.3,!=4.21.4,!=4.21.5,<5.0.0dev,>=3.20.3 in /home/javier/Escritorio/HERIOT-WATT/F21DL - Data Mining and Machine Learning/group-coursework-jjmps/.venv/lib/python3.10/site-packages (from tensorflow) (4.23.4)\n",
            "Requirement already satisfied: setuptools in /home/javier/Escritorio/HERIOT-WATT/F21DL - Data Mining and Machine Learning/group-coursework-jjmps/.venv/lib/python3.10/site-packages (from tensorflow) (59.6.0)\n",
            "Requirement already satisfied: six>=1.12.0 in /home/javier/Escritorio/HERIOT-WATT/F21DL - Data Mining and Machine Learning/group-coursework-jjmps/.venv/lib/python3.10/site-packages (from tensorflow) (1.16.0)\n",
            "Requirement already satisfied: termcolor>=1.1.0 in /home/javier/Escritorio/HERIOT-WATT/F21DL - Data Mining and Machine Learning/group-coursework-jjmps/.venv/lib/python3.10/site-packages (from tensorflow) (2.3.0)\n",
            "Requirement already satisfied: typing-extensions>=3.6.6 in /home/javier/Escritorio/HERIOT-WATT/F21DL - Data Mining and Machine Learning/group-coursework-jjmps/.venv/lib/python3.10/site-packages (from tensorflow) (4.8.0)\n",
            "Requirement already satisfied: wrapt<1.15,>=1.11.0 in /home/javier/Escritorio/HERIOT-WATT/F21DL - Data Mining and Machine Learning/group-coursework-jjmps/.venv/lib/python3.10/site-packages (from tensorflow) (1.14.1)\n",
            "Requirement already satisfied: tensorflow-io-gcs-filesystem>=0.23.1 in /home/javier/Escritorio/HERIOT-WATT/F21DL - Data Mining and Machine Learning/group-coursework-jjmps/.venv/lib/python3.10/site-packages (from tensorflow) (0.34.0)\n",
            "Requirement already satisfied: grpcio<2.0,>=1.24.3 in /home/javier/Escritorio/HERIOT-WATT/F21DL - Data Mining and Machine Learning/group-coursework-jjmps/.venv/lib/python3.10/site-packages (from tensorflow) (1.59.3)\n",
            "Requirement already satisfied: tensorboard<2.16,>=2.15 in /home/javier/Escritorio/HERIOT-WATT/F21DL - Data Mining and Machine Learning/group-coursework-jjmps/.venv/lib/python3.10/site-packages (from tensorflow) (2.15.1)\n",
            "Requirement already satisfied: tensorflow-estimator<2.16,>=2.15.0 in /home/javier/Escritorio/HERIOT-WATT/F21DL - Data Mining and Machine Learning/group-coursework-jjmps/.venv/lib/python3.10/site-packages (from tensorflow) (2.15.0)\n",
            "Requirement already satisfied: keras<2.16,>=2.15.0 in /home/javier/Escritorio/HERIOT-WATT/F21DL - Data Mining and Machine Learning/group-coursework-jjmps/.venv/lib/python3.10/site-packages (from tensorflow) (2.15.0)\n",
            "Requirement already satisfied: wheel<1.0,>=0.23.0 in /home/javier/Escritorio/HERIOT-WATT/F21DL - Data Mining and Machine Learning/group-coursework-jjmps/.venv/lib/python3.10/site-packages (from astunparse>=1.6.0->tensorflow) (0.42.0)\n",
            "Requirement already satisfied: google-auth<3,>=1.6.3 in /home/javier/Escritorio/HERIOT-WATT/F21DL - Data Mining and Machine Learning/group-coursework-jjmps/.venv/lib/python3.10/site-packages (from tensorboard<2.16,>=2.15->tensorflow) (2.23.4)\n",
            "Requirement already satisfied: google-auth-oauthlib<2,>=0.5 in /home/javier/Escritorio/HERIOT-WATT/F21DL - Data Mining and Machine Learning/group-coursework-jjmps/.venv/lib/python3.10/site-packages (from tensorboard<2.16,>=2.15->tensorflow) (1.1.0)\n",
            "Requirement already satisfied: markdown>=2.6.8 in /home/javier/Escritorio/HERIOT-WATT/F21DL - Data Mining and Machine Learning/group-coursework-jjmps/.venv/lib/python3.10/site-packages (from tensorboard<2.16,>=2.15->tensorflow) (3.5.1)\n",
            "Requirement already satisfied: requests<3,>=2.21.0 in /home/javier/Escritorio/HERIOT-WATT/F21DL - Data Mining and Machine Learning/group-coursework-jjmps/.venv/lib/python3.10/site-packages (from tensorboard<2.16,>=2.15->tensorflow) (2.31.0)\n",
            "Requirement already satisfied: tensorboard-data-server<0.8.0,>=0.7.0 in /home/javier/Escritorio/HERIOT-WATT/F21DL - Data Mining and Machine Learning/group-coursework-jjmps/.venv/lib/python3.10/site-packages (from tensorboard<2.16,>=2.15->tensorflow) (0.7.2)\n",
            "Requirement already satisfied: werkzeug>=1.0.1 in /home/javier/Escritorio/HERIOT-WATT/F21DL - Data Mining and Machine Learning/group-coursework-jjmps/.venv/lib/python3.10/site-packages (from tensorboard<2.16,>=2.15->tensorflow) (3.0.1)\n",
            "Requirement already satisfied: cachetools<6.0,>=2.0.0 in /home/javier/Escritorio/HERIOT-WATT/F21DL - Data Mining and Machine Learning/group-coursework-jjmps/.venv/lib/python3.10/site-packages (from google-auth<3,>=1.6.3->tensorboard<2.16,>=2.15->tensorflow) (5.3.2)\n",
            "Requirement already satisfied: pyasn1-modules>=0.2.1 in /home/javier/Escritorio/HERIOT-WATT/F21DL - Data Mining and Machine Learning/group-coursework-jjmps/.venv/lib/python3.10/site-packages (from google-auth<3,>=1.6.3->tensorboard<2.16,>=2.15->tensorflow) (0.3.0)\n",
            "Requirement already satisfied: rsa<5,>=3.1.4 in /home/javier/Escritorio/HERIOT-WATT/F21DL - Data Mining and Machine Learning/group-coursework-jjmps/.venv/lib/python3.10/site-packages (from google-auth<3,>=1.6.3->tensorboard<2.16,>=2.15->tensorflow) (4.9)\n",
            "Requirement already satisfied: requests-oauthlib>=0.7.0 in /home/javier/Escritorio/HERIOT-WATT/F21DL - Data Mining and Machine Learning/group-coursework-jjmps/.venv/lib/python3.10/site-packages (from google-auth-oauthlib<2,>=0.5->tensorboard<2.16,>=2.15->tensorflow) (1.3.1)\n",
            "Requirement already satisfied: charset-normalizer<4,>=2 in /home/javier/Escritorio/HERIOT-WATT/F21DL - Data Mining and Machine Learning/group-coursework-jjmps/.venv/lib/python3.10/site-packages (from requests<3,>=2.21.0->tensorboard<2.16,>=2.15->tensorflow) (3.3.2)\n",
            "Requirement already satisfied: idna<4,>=2.5 in /home/javier/Escritorio/HERIOT-WATT/F21DL - Data Mining and Machine Learning/group-coursework-jjmps/.venv/lib/python3.10/site-packages (from requests<3,>=2.21.0->tensorboard<2.16,>=2.15->tensorflow) (3.6)\n",
            "Requirement already satisfied: urllib3<3,>=1.21.1 in /home/javier/Escritorio/HERIOT-WATT/F21DL - Data Mining and Machine Learning/group-coursework-jjmps/.venv/lib/python3.10/site-packages (from requests<3,>=2.21.0->tensorboard<2.16,>=2.15->tensorflow) (2.1.0)\n",
            "Requirement already satisfied: certifi>=2017.4.17 in /home/javier/Escritorio/HERIOT-WATT/F21DL - Data Mining and Machine Learning/group-coursework-jjmps/.venv/lib/python3.10/site-packages (from requests<3,>=2.21.0->tensorboard<2.16,>=2.15->tensorflow) (2023.11.17)\n",
            "Requirement already satisfied: MarkupSafe>=2.1.1 in /home/javier/Escritorio/HERIOT-WATT/F21DL - Data Mining and Machine Learning/group-coursework-jjmps/.venv/lib/python3.10/site-packages (from werkzeug>=1.0.1->tensorboard<2.16,>=2.15->tensorflow) (2.1.3)\n",
            "Requirement already satisfied: pyasn1<0.6.0,>=0.4.6 in /home/javier/Escritorio/HERIOT-WATT/F21DL - Data Mining and Machine Learning/group-coursework-jjmps/.venv/lib/python3.10/site-packages (from pyasn1-modules>=0.2.1->google-auth<3,>=1.6.3->tensorboard<2.16,>=2.15->tensorflow) (0.5.1)\n",
            "Requirement already satisfied: oauthlib>=3.0.0 in /home/javier/Escritorio/HERIOT-WATT/F21DL - Data Mining and Machine Learning/group-coursework-jjmps/.venv/lib/python3.10/site-packages (from requests-oauthlib>=0.7.0->google-auth-oauthlib<2,>=0.5->tensorboard<2.16,>=2.15->tensorflow) (3.2.2)\n",
            "Note: you may need to restart the kernel to use updated packages.\n"
          ]
        }
      ],
      "source": [
        "%pip install keras\n",
        "%pip install datasets\n",
        "%pip install numpy\n",
        "%pip install pandas\n",
        "%pip install transformers\n",
        "%pip install tensorflow"
      ]
    },
    {
      "cell_type": "code",
      "execution_count": 2,
      "metadata": {
        "id": "r7S_mMizpWNN"
      },
      "outputs": [
        {
          "name": "stderr",
          "output_type": "stream",
          "text": [
            "/home/javier/Escritorio/HERIOT-WATT/F21DL - Data Mining and Machine Learning/group-coursework-jjmps/.venv/lib/python3.10/site-packages/tqdm/auto.py:21: TqdmWarning: IProgress not found. Please update jupyter and ipywidgets. See https://ipywidgets.readthedocs.io/en/stable/user_install.html\n",
            "  from .autonotebook import tqdm as notebook_tqdm\n"
          ]
        }
      ],
      "source": [
        "from transformers import BertTokenizer, BertModel\n",
        "\n",
        "model_name = \"bert-base-uncased\"\n",
        "tokenizer = BertTokenizer.from_pretrained(model_name)\n",
        "model = BertModel.from_pretrained(model_name)"
      ]
    },
    {
      "cell_type": "code",
      "execution_count": 4,
      "metadata": {
        "id": "HxWcGcAqHBTa"
      },
      "outputs": [],
      "source": [
        "import pandas as pd\n",
        "train_df = pd.read_csv(\"../../../data/health_fact/clean_dataset/train.csv\")\n",
        "test_df = pd.read_csv(\"../../../data/health_fact/clean_dataset/test.csv\")\n"
      ]
    },
    {
      "cell_type": "code",
      "execution_count": 5,
      "metadata": {
        "id": "u0S5081K-KnK"
      },
      "outputs": [
        {
          "name": "stdout",
          "output_type": "stream",
          "text": [
            "(4991,)\n",
            "(647,)\n"
          ]
        }
      ],
      "source": [
        "y_train, y_test= pd.read_csv(\"../../../data/health_fact/clean_dataset/train.csv\")[\"label\"], pd.read_csv(\"../../../data/health_fact/clean_dataset/test.csv\")[\"label\"]\n",
        "\n",
        "print(y_train.shape)\n",
        "print(y_test.shape)"
      ]
    },
    {
      "cell_type": "code",
      "execution_count": 6,
      "metadata": {
        "colab": {
          "base_uri": "https://localhost:8080/"
        },
        "id": "xURBf5qE-wJK",
        "outputId": "1f90ed0e-7773-46bb-c3f8-a04cee4f7a25"
      },
      "outputs": [],
      "source": [
        "from collections import Counter"
      ]
    },
    {
      "cell_type": "code",
      "execution_count": 7,
      "metadata": {
        "id": "gQdu5Qr0-7cK"
      },
      "outputs": [
        {
          "name": "stderr",
          "output_type": "stream",
          "text": [
            "2023-11-27 06:34:10.729981: I tensorflow/core/util/port.cc:113] oneDNN custom operations are on. You may see slightly different numerical results due to floating-point round-off errors from different computation orders. To turn them off, set the environment variable `TF_ENABLE_ONEDNN_OPTS=0`.\n",
            "2023-11-27 06:34:11.154942: E external/local_xla/xla/stream_executor/cuda/cuda_dnn.cc:9261] Unable to register cuDNN factory: Attempting to register factory for plugin cuDNN when one has already been registered\n",
            "2023-11-27 06:34:11.154999: E external/local_xla/xla/stream_executor/cuda/cuda_fft.cc:607] Unable to register cuFFT factory: Attempting to register factory for plugin cuFFT when one has already been registered\n",
            "2023-11-27 06:34:11.217986: E external/local_xla/xla/stream_executor/cuda/cuda_blas.cc:1515] Unable to register cuBLAS factory: Attempting to register factory for plugin cuBLAS when one has already been registered\n",
            "2023-11-27 06:34:11.350572: I tensorflow/core/platform/cpu_feature_guard.cc:182] This TensorFlow binary is optimized to use available CPU instructions in performance-critical operations.\n",
            "To enable the following instructions: AVX2 AVX512F AVX512_VNNI FMA, in other operations, rebuild TensorFlow with the appropriate compiler flags.\n",
            "2023-11-27 06:34:12.374247: W tensorflow/compiler/tf2tensorrt/utils/py_utils.cc:38] TF-TRT Warning: Could not find TensorRT\n"
          ]
        }
      ],
      "source": [
        "from keras.models import Sequential\n",
        "from keras.layers import Dense\n",
        "from keras.layers import Flatten\n",
        "from keras.layers import Embedding\n",
        "from keras.layers import Conv1D\n",
        "from keras.layers import MaxPooling1D\n",
        "import numpy as np"
      ]
    },
    {
      "cell_type": "code",
      "execution_count": 8,
      "metadata": {
        "id": "PexVwBrNNWxU"
      },
      "outputs": [],
      "source": [
        "embeddings_train = np.load(\"../../../data/health_fact/embeddings/embeddings_clean_train.npy\")\n"
      ]
    },
    {
      "cell_type": "code",
      "execution_count": 9,
      "metadata": {
        "id": "BPpG1w6ONueW"
      },
      "outputs": [],
      "source": [
        "embeddings_train_reshaped = embeddings_train.reshape(embeddings_train.shape[0], embeddings_train.shape[1], 1)"
      ]
    },
    {
      "cell_type": "code",
      "execution_count": 10,
      "metadata": {
        "id": "GR3NF09z_V1G"
      },
      "outputs": [],
      "source": [
        "\n",
        "# Example of reshaping input data\n",
        "\n",
        "\n",
        "\n",
        "model_cnn = Sequential()\n",
        "model_cnn.add(Conv1D(filters=128, kernel_size=5, activation='relu'))\n",
        "model_cnn.add(MaxPooling1D(pool_size=2))\n",
        "model_cnn.add(Flatten())\n",
        "model_cnn.add(Dense(1, activation='sigmoid'))\n",
        "\n",
        "\n",
        "# compile network\n"
      ]
    },
    {
      "cell_type": "code",
      "execution_count": 11,
      "metadata": {
        "colab": {
          "base_uri": "https://localhost:8080/"
        },
        "id": "qd1fi3_RBMb2",
        "outputId": "ecbf2a92-b1e8-4a12-c321-27600bd779fc"
      },
      "outputs": [
        {
          "name": "stdout",
          "output_type": "stream",
          "text": [
            "Epoch 1/50\n",
            "156/156 - 4s - loss: 0.5839 - accuracy: 0.6953 - 4s/epoch - 25ms/step\n",
            "Epoch 2/50\n",
            "156/156 - 3s - loss: 0.5046 - accuracy: 0.7467 - 3s/epoch - 20ms/step\n",
            "Epoch 3/50\n",
            "156/156 - 3s - loss: 0.4869 - accuracy: 0.7660 - 3s/epoch - 19ms/step\n",
            "Epoch 4/50\n",
            "156/156 - 3s - loss: 0.4596 - accuracy: 0.7798 - 3s/epoch - 18ms/step\n",
            "Epoch 5/50\n",
            "156/156 - 3s - loss: 0.4637 - accuracy: 0.7776 - 3s/epoch - 19ms/step\n",
            "Epoch 6/50\n",
            "156/156 - 3s - loss: 0.4464 - accuracy: 0.7922 - 3s/epoch - 17ms/step\n",
            "Epoch 7/50\n",
            "156/156 - 3s - loss: 0.4379 - accuracy: 0.7954 - 3s/epoch - 17ms/step\n",
            "Epoch 8/50\n",
            "156/156 - 3s - loss: 0.4393 - accuracy: 0.7950 - 3s/epoch - 17ms/step\n",
            "Epoch 9/50\n",
            "156/156 - 3s - loss: 0.4204 - accuracy: 0.8059 - 3s/epoch - 17ms/step\n",
            "Epoch 10/50\n",
            "156/156 - 3s - loss: 0.4322 - accuracy: 0.7948 - 3s/epoch - 17ms/step\n",
            "Epoch 11/50\n",
            "156/156 - 3s - loss: 0.4287 - accuracy: 0.7960 - 3s/epoch - 17ms/step\n",
            "Epoch 12/50\n",
            "156/156 - 3s - loss: 0.4086 - accuracy: 0.8141 - 3s/epoch - 17ms/step\n",
            "Epoch 13/50\n",
            "156/156 - 3s - loss: 0.3960 - accuracy: 0.8201 - 3s/epoch - 18ms/step\n",
            "Epoch 14/50\n",
            "156/156 - 3s - loss: 0.3982 - accuracy: 0.8165 - 3s/epoch - 17ms/step\n",
            "Epoch 15/50\n",
            "156/156 - 3s - loss: 0.3947 - accuracy: 0.8215 - 3s/epoch - 17ms/step\n",
            "Epoch 16/50\n",
            "156/156 - 3s - loss: 0.3860 - accuracy: 0.8265 - 3s/epoch - 17ms/step\n",
            "Epoch 17/50\n",
            "156/156 - 3s - loss: 0.3816 - accuracy: 0.8285 - 3s/epoch - 18ms/step\n",
            "Epoch 18/50\n",
            "156/156 - 3s - loss: 0.3776 - accuracy: 0.8279 - 3s/epoch - 17ms/step\n",
            "Epoch 19/50\n",
            "156/156 - 3s - loss: 0.3683 - accuracy: 0.8375 - 3s/epoch - 17ms/step\n",
            "Epoch 20/50\n",
            "156/156 - 3s - loss: 0.3508 - accuracy: 0.8451 - 3s/epoch - 17ms/step\n",
            "Epoch 21/50\n",
            "156/156 - 3s - loss: 0.3567 - accuracy: 0.8347 - 3s/epoch - 17ms/step\n",
            "Epoch 22/50\n",
            "156/156 - 3s - loss: 0.3468 - accuracy: 0.8485 - 3s/epoch - 17ms/step\n",
            "Epoch 23/50\n",
            "156/156 - 3s - loss: 0.3461 - accuracy: 0.8493 - 3s/epoch - 17ms/step\n",
            "Epoch 24/50\n",
            "156/156 - 3s - loss: 0.3580 - accuracy: 0.8337 - 3s/epoch - 16ms/step\n",
            "Epoch 25/50\n",
            "156/156 - 3s - loss: 0.3353 - accuracy: 0.8549 - 3s/epoch - 17ms/step\n",
            "Epoch 26/50\n",
            "156/156 - 3s - loss: 0.3434 - accuracy: 0.8487 - 3s/epoch - 17ms/step\n",
            "Epoch 27/50\n",
            "156/156 - 3s - loss: 0.3304 - accuracy: 0.8571 - 3s/epoch - 17ms/step\n",
            "Epoch 28/50\n",
            "156/156 - 3s - loss: 0.3433 - accuracy: 0.8451 - 3s/epoch - 17ms/step\n",
            "Epoch 29/50\n",
            "156/156 - 3s - loss: 0.3162 - accuracy: 0.8622 - 3s/epoch - 19ms/step\n",
            "Epoch 30/50\n",
            "156/156 - 3s - loss: 0.3098 - accuracy: 0.8660 - 3s/epoch - 17ms/step\n",
            "Epoch 31/50\n",
            "156/156 - 3s - loss: 0.3264 - accuracy: 0.8561 - 3s/epoch - 18ms/step\n",
            "Epoch 32/50\n",
            "156/156 - 3s - loss: 0.2937 - accuracy: 0.8742 - 3s/epoch - 18ms/step\n",
            "Epoch 33/50\n",
            "156/156 - 3s - loss: 0.3054 - accuracy: 0.8646 - 3s/epoch - 17ms/step\n",
            "Epoch 34/50\n",
            "156/156 - 3s - loss: 0.2860 - accuracy: 0.8784 - 3s/epoch - 17ms/step\n",
            "Epoch 35/50\n",
            "156/156 - 3s - loss: 0.2925 - accuracy: 0.8732 - 3s/epoch - 17ms/step\n",
            "Epoch 36/50\n",
            "156/156 - 3s - loss: 0.3042 - accuracy: 0.8662 - 3s/epoch - 17ms/step\n",
            "Epoch 37/50\n",
            "156/156 - 3s - loss: 0.2780 - accuracy: 0.8776 - 3s/epoch - 18ms/step\n",
            "Epoch 38/50\n",
            "156/156 - 3s - loss: 0.2820 - accuracy: 0.8746 - 3s/epoch - 17ms/step\n",
            "Epoch 39/50\n",
            "156/156 - 3s - loss: 0.2718 - accuracy: 0.8802 - 3s/epoch - 17ms/step\n",
            "Epoch 40/50\n",
            "156/156 - 3s - loss: 0.2630 - accuracy: 0.8914 - 3s/epoch - 17ms/step\n",
            "Epoch 41/50\n",
            "156/156 - 3s - loss: 0.2634 - accuracy: 0.8842 - 3s/epoch - 18ms/step\n",
            "Epoch 42/50\n",
            "156/156 - 3s - loss: 0.2667 - accuracy: 0.8876 - 3s/epoch - 17ms/step\n",
            "Epoch 43/50\n",
            "156/156 - 3s - loss: 0.2652 - accuracy: 0.8812 - 3s/epoch - 18ms/step\n",
            "Epoch 44/50\n",
            "156/156 - 3s - loss: 0.2588 - accuracy: 0.8852 - 3s/epoch - 17ms/step\n",
            "Epoch 45/50\n",
            "156/156 - 3s - loss: 0.2598 - accuracy: 0.8868 - 3s/epoch - 18ms/step\n",
            "Epoch 46/50\n",
            "156/156 - 3s - loss: 0.2478 - accuracy: 0.8904 - 3s/epoch - 17ms/step\n",
            "Epoch 47/50\n",
            "156/156 - 3s - loss: 0.2531 - accuracy: 0.8912 - 3s/epoch - 17ms/step\n",
            "Epoch 48/50\n",
            "156/156 - 3s - loss: 0.2486 - accuracy: 0.8996 - 3s/epoch - 17ms/step\n",
            "Epoch 49/50\n",
            "156/156 - 3s - loss: 0.2450 - accuracy: 0.8974 - 3s/epoch - 18ms/step\n",
            "Epoch 50/50\n",
            "156/156 - 3s - loss: 0.2333 - accuracy: 0.9064 - 3s/epoch - 18ms/step\n"
          ]
        },
        {
          "data": {
            "text/plain": [
              "<keras.src.callbacks.History at 0x7f76800916c0>"
            ]
          },
          "execution_count": 11,
          "metadata": {},
          "output_type": "execute_result"
        }
      ],
      "source": [
        "model_cnn.compile(loss='binary_crossentropy', optimizer='adam', metrics=['accuracy'])\n",
        "# print(model.summary())\n",
        "# fit network\n",
        "model_cnn.fit(embeddings_train_reshaped, y_train, epochs=50, verbose=2)\n"
      ]
    },
    {
      "cell_type": "code",
      "execution_count": 12,
      "metadata": {
        "id": "tWUZWPJ-OMeH"
      },
      "outputs": [],
      "source": [
        "embeddings_test = np.load(\"../../../data/health_fact/embeddings/embeddings_clean_test.npy\")\n"
      ]
    },
    {
      "cell_type": "code",
      "execution_count": 13,
      "metadata": {
        "colab": {
          "base_uri": "https://localhost:8080/"
        },
        "id": "LASre-UqG55P",
        "outputId": "9c707568-6993-450f-a13b-10a7172c49c8"
      },
      "outputs": [
        {
          "name": "stdout",
          "output_type": "stream",
          "text": [
            "0.5756122469902039 0.7650695443153381\n"
          ]
        }
      ],
      "source": [
        "# evaluate\n",
        "\n",
        "loss, acc = model_cnn.evaluate(embeddings_test, y_test, verbose=0)\n",
        "print(loss, acc)"
      ]
    },
    {
      "cell_type": "code",
      "execution_count": 15,
      "metadata": {
        "id": "f0gwgPQxBrWt"
      },
      "outputs": [],
      "source": [
        "import pickle\n",
        "import os\n",
        "\n",
        "file_path = \"../../../data/health_fact/model_cnn\"\n",
        "\n",
        "with open(file_path, \"wb\") as file_w:\n",
        "    pickle.dump(model ,file_w)"
      ]
    },
    {
      "cell_type": "code",
      "execution_count": 17,
      "metadata": {
        "id": "28PNZeqbO7sE"
      },
      "outputs": [],
      "source": [
        "embeddings_validate = np.load(\"../../../data/health_fact/embeddings/embeddings_clean_validate.npy\")\n"
      ]
    },
    {
      "cell_type": "code",
      "execution_count": 18,
      "metadata": {
        "id": "9tdrBNXmPjwX"
      },
      "outputs": [],
      "source": [
        "val_df = pd.read_csv(\"../../../data/health_fact/clean_dataset/validate.csv\")"
      ]
    },
    {
      "cell_type": "code",
      "execution_count": 19,
      "metadata": {
        "colab": {
          "base_uri": "https://localhost:8080/"
        },
        "id": "DA0RxZLvRKFT",
        "outputId": "da8bc5dd-5806-4f12-b11c-b09db800c37f"
      },
      "outputs": [
        {
          "data": {
            "text/plain": [
              "(632, 768)"
            ]
          },
          "execution_count": 19,
          "metadata": {},
          "output_type": "execute_result"
        }
      ],
      "source": [
        "embeddings_validate.shape"
      ]
    },
    {
      "cell_type": "code",
      "execution_count": 20,
      "metadata": {
        "id": "OxbS3ZYnGSUc"
      },
      "outputs": [],
      "source": [
        "y_validate = val_df[\"label\"]\n",
        "loss, acc = model_cnn.evaluate(embeddings_validate, val_df[\"label\"], verbose=0)"
      ]
    },
    {
      "cell_type": "code",
      "execution_count": 21,
      "metadata": {
        "colab": {
          "base_uri": "https://localhost:8080/"
        },
        "id": "eaT34m3dSQ4r",
        "outputId": "466647c4-1653-4800-84e5-1b52270542f6"
      },
      "outputs": [
        {
          "name": "stdout",
          "output_type": "stream",
          "text": [
            "0.5443037748336792\n"
          ]
        }
      ],
      "source": [
        "print(acc)"
      ]
    }
  ],
  "metadata": {
    "accelerator": "GPU",
    "colab": {
      "gpuType": "T4",
      "provenance": []
    },
    "kernelspec": {
      "display_name": "Python 3",
      "name": "python3"
    },
    "language_info": {
      "codemirror_mode": {
        "name": "ipython",
        "version": 3
      },
      "file_extension": ".py",
      "mimetype": "text/x-python",
      "name": "python",
      "nbconvert_exporter": "python",
      "pygments_lexer": "ipython3",
      "version": "3.10.12"
    }
  },
  "nbformat": 4,
  "nbformat_minor": 0
}
