{
 "cells": [
  {
   "cell_type": "code",
   "execution_count": 1,
   "metadata": {},
   "outputs": [
    {
     "name": "stderr",
     "output_type": "stream",
     "text": [
      "/home/javier/Escritorio/HERIOT-WATT/F21DL - Data Mining and Machine Learning/group-coursework-jjmps/.venv/lib/python3.10/site-packages/tqdm/auto.py:21: TqdmWarning: IProgress not found. Please update jupyter and ipywidgets. See https://ipywidgets.readthedocs.io/en/stable/user_install.html\n",
      "  from .autonotebook import tqdm as notebook_tqdm\n"
     ]
    }
   ],
   "source": [
    "import pandas as pd\n",
    "import numpy as np\n",
    "from sklearn import tree\n",
    "from transformers import BertTokenizer, BertModel"
   ]
  },
  {
   "cell_type": "code",
   "execution_count": 2,
   "metadata": {},
   "outputs": [],
   "source": [
    "df_test = pd.read_csv(\"../../../data/health_fact/clean_dataset/test.csv\")\n"
   ]
  },
  {
   "cell_type": "code",
   "execution_count": 3,
   "metadata": {},
   "outputs": [],
   "source": [
    "df_test = df_test[~df_test['label'].isin(['unproven', 'mixture', 'snopes'])]"
   ]
  },
  {
   "cell_type": "code",
   "execution_count": 4,
   "metadata": {},
   "outputs": [],
   "source": [
    "df_test.dropna(subset=[\"claim\", \"main_text\", \"label\"], inplace=True)"
   ]
  },
  {
   "cell_type": "code",
   "execution_count": 5,
   "metadata": {},
   "outputs": [
    {
     "name": "stdout",
     "output_type": "stream",
     "text": [
      "Missing values Unnamed: 0.1      0\n",
      "Unnamed: 0        0\n",
      "claim_id          0\n",
      "claim             0\n",
      "date_published    0\n",
      "explanation       0\n",
      "fact_checkers     0\n",
      "main_text         0\n",
      "label             0\n",
      "subjects          0\n",
      "dtype: int64\n"
     ]
    }
   ],
   "source": [
    "missing_values = df_test.isna().sum()\n",
    "\n",
    "print (f\"Missing values {missing_values}\")"
   ]
  },
  {
   "cell_type": "code",
   "execution_count": 6,
   "metadata": {},
   "outputs": [
    {
     "name": "stdout",
     "output_type": "stream",
     "text": [
      "647\n",
      "The proportion exposed to one or several ‘crimes against person’ was 11 percent in 2005. Subsequently, the proportion gradually decreased, and then stabilized at a level of around 9 percent. The last three years the trend is not as clear. In 2013 there was a rise to 11 percent, which was supposed to be temporary because the following year showed a decline to 9 percent. In 2015, however, the proportion is again 11 percent. The year-to-year variations in recent years is therefore large.\n"
     ]
    }
   ],
   "source": [
    "print(len(df_test))\n",
    "\n",
    "print (df_test[\"explanation\"][400])"
   ]
  },
  {
   "cell_type": "code",
   "execution_count": 7,
   "metadata": {},
   "outputs": [],
   "source": [
    "\n",
    "X = np.load(\"../../../data/health_fact/embeddings/embeddings_clean_train.npy\")\n",
    "Y = pd.read_csv(\"../../../data/health_fact/clean_dataset/train.csv\")[\"label\"].to_numpy()"
   ]
  },
  {
   "cell_type": "code",
   "execution_count": 8,
   "metadata": {},
   "outputs": [
    {
     "name": "stdout",
     "output_type": "stream",
     "text": [
      "4991\n",
      "4991\n",
      "[False  True  True ...  True False False]\n"
     ]
    }
   ],
   "source": [
    "print(len(X))\n",
    "print (len(Y))\n",
    "print (Y)"
   ]
  },
  {
   "cell_type": "code",
   "execution_count": 9,
   "metadata": {},
   "outputs": [],
   "source": [
    "\n",
    "model_name = \"bert-base-uncased\"\n",
    "tokenizer = BertTokenizer.from_pretrained(model_name)\n",
    "model = BertModel.from_pretrained(model_name)"
   ]
  },
  {
   "cell_type": "code",
   "execution_count": 10,
   "metadata": {},
   "outputs": [],
   "source": [
    "clf = tree.DecisionTreeClassifier()"
   ]
  },
  {
   "cell_type": "code",
   "execution_count": 11,
   "metadata": {},
   "outputs": [],
   "source": [
    "clf = clf.fit(X, Y)"
   ]
  },
  {
   "cell_type": "code",
   "execution_count": 12,
   "metadata": {},
   "outputs": [],
   "source": [
    "test_embeddings = np.array([])\n",
    "good = 0\n",
    "bad = 0\n",
    "def transform_bool(value):\n",
    "    if value == \"false\":\n",
    "        return False\n",
    "    return True\n",
    "\n",
    "embedding_test = np.load(\"../../../data/health_fact/embeddings/embeddings_clean_test.npy\")\n",
    "# print (df_test[\"claim\"][0])\n",
    "data_length = len(df_test)\n",
    "X_pred = df_test[\"main_text\"]\n",
    "Y_target = df_test[\"label\"].apply(transform_bool)\n",
    "for index, i in enumerate(embedding_test):\n",
    "    #inputs = tokenizer(X_pred[i], return_tensors=\"pt\", padding=True, truncation=True)\n",
    "    #outputs = model(**inputs)\n",
    "    #cls_embedding = outputs.last_hidden_state.mean(dim=1)\n",
    "    # test_embeddings.append(cls_embedding.detach().numpy())\n",
    "    output = clf.predict(np.array(i).reshape(1, -1))\n",
    "    if output == Y_target[index]:\n",
    "        good += 1\n",
    "    else:\n",
    "        bad += 1\n"
   ]
  },
  {
   "cell_type": "code",
   "execution_count": 13,
   "metadata": {},
   "outputs": [
    {
     "name": "stdout",
     "output_type": "stream",
     "text": [
      "287\n",
      "360\n",
      "accuracy: 0.4435857805255023\n"
     ]
    }
   ],
   "source": [
    "print (good)\n",
    "print (bad)\n",
    "print (f\"accuracy: {good / data_length}\")"
   ]
  }
 ],
 "metadata": {
  "kernelspec": {
   "display_name": ".venv",
   "language": "python",
   "name": "python3"
  },
  "language_info": {
   "codemirror_mode": {
    "name": "ipython",
    "version": 3
   },
   "file_extension": ".py",
   "mimetype": "text/x-python",
   "name": "python",
   "nbconvert_exporter": "python",
   "pygments_lexer": "ipython3",
   "version": "3.10.12"
  }
 },
 "nbformat": 4,
 "nbformat_minor": 2
}
